{
 "cells": [
  {
   "cell_type": "code",
   "execution_count": 1,
   "metadata": {},
   "outputs": [],
   "source": [
    "import numpy as np\n",
    "import pandas as pd\n",
    "import matplotlib.pyplot as plt\n",
    "import glob\n",
    "import sys\n",
    "import os"
   ]
  },
  {
   "cell_type": "code",
   "execution_count": 2,
   "metadata": {},
   "outputs": [],
   "source": [
    "def Mixed_matrix(M):\n",
    "    L = int(np.sqrt(len(M)))\n",
    "    M_sqrt = np.reshape(M, (L, L))\n",
    "    for i in range(L):\n",
    "        j, k = np.random.randint(0, L, 2)\n",
    "        if np.random.rand() < 0.5:\n",
    "            temp = np.copy(M_sqrt[:,j])\n",
    "            M_sqrt[:,j] = M_sqrt[:,k]\n",
    "            M_sqrt[:,k] = temp\n",
    "        else:\n",
    "            temp = np.copy(M_sqrt[j,:])\n",
    "            M_sqrt[j,:] = M_sqrt[k,:]\n",
    "            M_sqrt[k,:] = temp\n",
    "    return np.reshape(M_sqrt,(1,L*L))[0]"
   ]
  },
  {
   "cell_type": "code",
   "execution_count": 3,
   "metadata": {},
   "outputs": [],
   "source": [
    "def get_mag(M):\n",
    "    return np.mean(M)\n",
    "\n",
    "def get_E(M):\n",
    "    return np.mean(-0.5*M*(np.roll(M,1,axis=0)+np.roll(M,-1,axis=0)+np.roll(M,1,axis=1)+np.roll(M,-1,axis=1)))\n",
    "\n",
    "def get_E2(M):\n",
    "    return np.mean((-0.5*M*(np.roll(M,1,axis=0)+np.roll(M,-1,axis=0)+np.roll(M,1,axis=1)+np.roll(M,-1,axis=1)))**2)\n",
    "\n",
    "def get_Cv(M, T):\n",
    "    return (get_E2(M)-get_E(M)**2)/T**2\n",
    "\n",
    "def get_Cm(M, T):\n",
    "    return (get_mag(M*M)-get_mag(M)**2)/T"
   ]
  },
  {
   "cell_type": "code",
   "execution_count": 28,
   "metadata": {
    "scrolled": true
   },
   "outputs": [],
   "source": [
    "path = \"../../Generate_Data/Ising_Model/DATA/\"\n",
    "\n",
    "Size_Folders = np.array(glob.glob(path+\"L*\"))\n",
    "Size_Folders = Size_Folders[np.argsort([int(s.split(\"L\")[-1]) for s in Size_Folders])]\n",
    "\n",
    "for folder_size in Size_Folders:\n",
    "    if not os.path.exists(folder_size.replace('/DATA/', '/DATA_Control/')): \n",
    "        os.mkdir(folder_size.replace('/DATA/', '/DATA_Control/'))\n",
    "\n",
    "    L_folders = np.sort(glob.glob(folder_size+\"/Ising*\"))\n",
    "    for l_folder in L_folders:\n",
    "        #print(l_folder)\n",
    "        new_l_folder = l_folder.replace('/DATA/', '/DATA_Control/')\n",
    "        #print(new_l_folder)\n",
    "        if not os.path.exists(new_l_folder): \n",
    "            os.mkdir(new_l_folder)\n",
    "            os.mkdir(new_l_folder+\"/DATA/\")\n",
    "            \n",
    "        Matrix_T = np.sort(glob.glob(l_folder+\"/DATA/Matrix_configurations/T*.csv\"))\n",
    "        Temperatures = np.array([float(m_t.split('/T')[-1].split(\".csv\")[0]) for m_t in Matrix_T])\n",
    "        Configurations = np.array([pd.read_csv(m_t, sep=\" \", header=None).values for m_t in Matrix_T])\n",
    "        M_, E_, Cv_, Cm_ = [], [], [], []        \n",
    "        for i in range(len(Matrix_T)): #for each T\n",
    "            L = int(np.sqrt(Configurations[i].shape[1]))\n",
    "            M_.append(np.abs(get_mag(Configurations[i].reshape((L,L)))))\n",
    "            E_.append(get_E(Configurations[i].reshape((L,L))))\n",
    "            Cv_.append(get_Cv(Configurations[i].reshape((L,L)), Temperatures[i]))\n",
    "            Cm_.append(get_Cm(Configurations[i].reshape((L,L)), Temperatures[i]))\n",
    "        \n",
    "        data_csv = pd.DataFrame(np.array([Temperatures,E_,M_,Cv_,Cm_]).transpose(), \n",
    "                                columns=['Temperature','Energy','Magnetization','Cv','Chi_m'])\n",
    "        \n",
    "        data_csv.to_csv(new_l_folder+\"/DATA/data.csv\", index=None)"
   ]
  },
  {
   "cell_type": "code",
   "execution_count": 29,
   "metadata": {},
   "outputs": [],
   "source": [
    "path = \"../../Generate_Data/Ising_Model/DATA/\"\n",
    "\n",
    "Size_Folders = np.array(glob.glob(path+\"L*\"))\n",
    "Size_Folders = Size_Folders[np.argsort([int(s.split(\"L\")[-1]) for s in Size_Folders])]\n",
    "\n",
    "for folder_size in Size_Folders:\n",
    "    if not os.path.exists(folder_size.replace('/DATA/', '/DATA_Random/')): \n",
    "        os.mkdir(folder_size.replace('/DATA/', '/DATA_Random/'))\n",
    "\n",
    "    L_folders = np.sort(glob.glob(folder_size+\"/Ising*\"))\n",
    "    for l_folder in L_folders:\n",
    "        #print(l_folder)\n",
    "        new_l_folder = l_folder.replace('/DATA/', '/DATA_Random/')\n",
    "        #print(new_l_folder)\n",
    "        if not os.path.exists(new_l_folder): \n",
    "            os.mkdir(new_l_folder)\n",
    "            os.mkdir(new_l_folder+\"/DATA/\")\n",
    "            \n",
    "        Matrix_T = np.sort(glob.glob(l_folder+\"/DATA/Matrix_configurations/T*.csv\"))\n",
    "        Temperatures = np.array([float(m_t.split('/T')[-1].split(\".csv\")[0]) for m_t in Matrix_T])\n",
    "        Configurations = np.array([pd.read_csv(m_t, sep=\" \", header=None).values for m_t in Matrix_T])\n",
    "        M_, E_, Cv_, Cm_ = [], [], [], []        \n",
    "        for i in range(len(Matrix_T)): #for each T\n",
    "            Configurations_random = Mixed_matrix(Configurations[i][0])\n",
    "            L = int(np.sqrt(Configurations_random.shape[0]))\n",
    "            M_.append(np.abs(get_mag(Configurations_random.reshape((L,L)))))\n",
    "            E_.append(get_E(Configurations_random.reshape((L,L))))\n",
    "            Cv_.append(get_Cv(Configurations_random.reshape((L,L)), Temperatures[i]))\n",
    "            Cm_.append(get_Cm(Configurations_random.reshape((L,L)), Temperatures[i]))\n",
    "        \n",
    "        data_csv = pd.DataFrame(np.array([Temperatures,E_,M_,Cv_,Cm_]).transpose(), \n",
    "                                columns=['Temperature','Energy','Magnetization','Cv','Chi_m'])\n",
    "        \n",
    "        data_csv.to_csv(new_l_folder+\"/DATA/data.csv\", index=None)"
   ]
  },
  {
   "cell_type": "code",
   "execution_count": null,
   "metadata": {},
   "outputs": [],
   "source": []
  }
 ],
 "metadata": {
  "kernelspec": {
   "display_name": "Python 3",
   "language": "python",
   "name": "python3"
  },
  "language_info": {
   "codemirror_mode": {
    "name": "ipython",
    "version": 3
   },
   "file_extension": ".py",
   "mimetype": "text/x-python",
   "name": "python",
   "nbconvert_exporter": "python",
   "pygments_lexer": "ipython3",
   "version": "3.8.5"
  }
 },
 "nbformat": 4,
 "nbformat_minor": 4
}
